{
 "cells": [
  {
   "cell_type": "markdown",
   "metadata": {},
   "source": [
    "# Mathematical function"
   ]
  },
  {
   "cell_type": "markdown",
   "metadata": {},
   "source": [
    "Our objective is to find a way of mapping the ML algorithm output to an identifier which can be used to select the movie to be displayed. Our algorithm should be of form \n",
    "$$i = f(\\beta) + g(dw) + h(\\sum_{j=0}^k f_j w_j)$$\n",
    "Where beta is some output from the machine learning algorithm, dw is a stochastic variable to ensure the randomness of the movie selected (we predict from the large number of movies in the database a simplistic mapping function will choose the same movie each time for similar user responses) and $f_jw_j$ is some weighting function which will introduce wieghting on certain repsonses.\n",
    "\n",
    "**$\\beta$**\n",
    "\n",
    "The output beta is entirely dependent on the type of machine learning algorithm used and will be confirmed at a later date\n",
    "\n",
    "**dw**\n",
    "\n",
    "the simplest way of introducing randomness or noise would be to use the following type of function"
   ]
  },
  {
   "cell_type": "code",
   "execution_count": 4,
   "metadata": {},
   "outputs": [
    {
     "name": "stdout",
     "output_type": "stream",
     "text": [
      "Example of random integer generator: 4\n"
     ]
    }
   ],
   "source": [
    "import numpy as np\n",
    "from numpy import random as r\n",
    "\n",
    "print(\"Example of random integer generator: {}\".format(r.randint(10)))"
   ]
  },
  {
   "cell_type": "markdown",
   "metadata": {},
   "source": [
    "A more robust method would involve using the Stats Scipy module:"
   ]
  },
  {
   "cell_type": "code",
   "execution_count": 5,
   "metadata": {},
   "outputs": [],
   "source": [
    "import scipy.stats as s"
   ]
  },
  {
   "cell_type": "markdown",
   "metadata": {},
   "source": [
    "Perhaps looking into creating and using rv_discrete class?"
   ]
  }
 ],
 "metadata": {
  "kernelspec": {
   "display_name": "Python 3",
   "language": "python",
   "name": "python3"
  },
  "language_info": {
   "codemirror_mode": {
    "name": "ipython",
    "version": 3
   },
   "file_extension": ".py",
   "mimetype": "text/x-python",
   "name": "python",
   "nbconvert_exporter": "python",
   "pygments_lexer": "ipython3",
   "version": "3.6.7"
  }
 },
 "nbformat": 4,
 "nbformat_minor": 2
}
