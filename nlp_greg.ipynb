{
 "cells": [
  {
   "cell_type": "markdown",
   "metadata": {},
   "source": [
    "# NLP with NLTK and Word2Vec\n",
    "\n",
    "Here we're working with the preprocessed movies dataset to figure out how to map these descriptions into some subspace of interest."
   ]
  },
  {
   "cell_type": "code",
   "execution_count": 1,
   "metadata": {},
   "outputs": [],
   "source": [
    "import gensim\n",
    "import nltk\n",
    "import pandas as pd\n",
    "import numpy as np\n",
    "import seaborn as sns\n",
    "import matplotlib.pyplot as plt\n",
    "%matplotlib inline"
   ]
  },
  {
   "cell_type": "markdown",
   "metadata": {},
   "source": [
    "#### NLTK packages"
   ]
  },
  {
   "cell_type": "code",
   "execution_count": 2,
   "metadata": {
    "scrolled": true
   },
   "outputs": [
    {
     "name": "stderr",
     "output_type": "stream",
     "text": [
      "[nltk_data] Downloading package punkt to /Users/Greg/nltk_data...\n",
      "[nltk_data]   Package punkt is already up-to-date!\n",
      "[nltk_data] Downloading package stopwords to /Users/Greg/nltk_data...\n",
      "[nltk_data]   Package stopwords is already up-to-date!\n"
     ]
    },
    {
     "data": {
      "text/plain": [
       "True"
      ]
     },
     "execution_count": 2,
     "metadata": {},
     "output_type": "execute_result"
    }
   ],
   "source": [
    "nltk.download('punkt')\n",
    "# download stop words using nltk\n",
    "nltk.download('stopwords')"
   ]
  },
  {
   "cell_type": "markdown",
   "metadata": {},
   "source": [
    "## Import NLP dataset"
   ]
  },
  {
   "cell_type": "code",
   "execution_count": 35,
   "metadata": {},
   "outputs": [],
   "source": [
    "df = (pd.read_csv(\"df_nlp_greg.csv\", header=0, sep=',', encoding='latin-1')\n",
    "    .dropna(subset=['title', 'id', 'overview'])\n",
    "    .drop('original_title', axis=1)\n",
    "    .set_index('title'))"
   ]
  },
  {
   "cell_type": "code",
   "execution_count": 76,
   "metadata": {},
   "outputs": [
    {
     "data": {
      "text/html": [
       "<div>\n",
       "<style scoped>\n",
       "    .dataframe tbody tr th:only-of-type {\n",
       "        vertical-align: middle;\n",
       "    }\n",
       "\n",
       "    .dataframe tbody tr th {\n",
       "        vertical-align: top;\n",
       "    }\n",
       "\n",
       "    .dataframe thead th {\n",
       "        text-align: right;\n",
       "    }\n",
       "</style>\n",
       "<table border=\"1\" class=\"dataframe\">\n",
       "  <thead>\n",
       "    <tr style=\"text-align: right;\">\n",
       "      <th></th>\n",
       "      <th>id</th>\n",
       "      <th>overview</th>\n",
       "      <th>tagline</th>\n",
       "      <th>overview_tokens</th>\n",
       "    </tr>\n",
       "    <tr>\n",
       "      <th>title</th>\n",
       "      <th></th>\n",
       "      <th></th>\n",
       "      <th></th>\n",
       "      <th></th>\n",
       "    </tr>\n",
       "  </thead>\n",
       "  <tbody>\n",
       "    <tr>\n",
       "      <th>Jumanji</th>\n",
       "      <td>8844</td>\n",
       "      <td>when siblings judy and peter discover an encha...</td>\n",
       "      <td>Roll the dice and unleash the excitement!</td>\n",
       "      <td>when siblings judy and peter discover an encha...</td>\n",
       "    </tr>\n",
       "    <tr>\n",
       "      <th>Grumpier Old Men</th>\n",
       "      <td>15602</td>\n",
       "      <td>a family wedding reignites the ancient feud be...</td>\n",
       "      <td>Still Yelling. Still Fighting. Still Ready for...</td>\n",
       "      <td>a family wedding reignites the ancient feud be...</td>\n",
       "    </tr>\n",
       "    <tr>\n",
       "      <th>Waiting to Exhale</th>\n",
       "      <td>31357</td>\n",
       "      <td>cheated on, mistreated and stepped on, the wom...</td>\n",
       "      <td>Friends are the people who let you be yourself...</td>\n",
       "      <td>cheated on mistreated and stepped on the women...</td>\n",
       "    </tr>\n",
       "    <tr>\n",
       "      <th>Father of the Bride Part II</th>\n",
       "      <td>11862</td>\n",
       "      <td>just when george banks has recovered from his ...</td>\n",
       "      <td>Just When His World Is Back To Normal... He's ...</td>\n",
       "      <td>just when george banks has recovered from his ...</td>\n",
       "    </tr>\n",
       "    <tr>\n",
       "      <th>Heat</th>\n",
       "      <td>949</td>\n",
       "      <td>obsessive master thief, neil mccauley leads a ...</td>\n",
       "      <td>A Los Angeles Crime Saga</td>\n",
       "      <td>obsessive master thief neil mccauley leads a t...</td>\n",
       "    </tr>\n",
       "    <tr>\n",
       "      <th>...</th>\n",
       "      <td>...</td>\n",
       "      <td>...</td>\n",
       "      <td>...</td>\n",
       "      <td>...</td>\n",
       "    </tr>\n",
       "    <tr>\n",
       "      <th>The Morning After</th>\n",
       "      <td>420346</td>\n",
       "      <td>the morning after is a feature film that consi...</td>\n",
       "      <td>What happened last night?</td>\n",
       "      <td>the morning after is a feature film that consi...</td>\n",
       "    </tr>\n",
       "    <tr>\n",
       "      <th>House of Horrors</th>\n",
       "      <td>84419</td>\n",
       "      <td>an unsuccessful sculptor saves a madman named ...</td>\n",
       "      <td>Meet...The CREEPER!</td>\n",
       "      <td>an unsuccessful sculptor saves a madman named ...</td>\n",
       "    </tr>\n",
       "    <tr>\n",
       "      <th>The Burkittsville 7</th>\n",
       "      <td>289923</td>\n",
       "      <td>a film archivist revisits the story of rustin ...</td>\n",
       "      <td>Do you know what happened 50 years before \"The...</td>\n",
       "      <td>a film archivist revisits the story of rustin ...</td>\n",
       "    </tr>\n",
       "    <tr>\n",
       "      <th>Subdue</th>\n",
       "      <td>439050</td>\n",
       "      <td>rising and falling between a man and woman</td>\n",
       "      <td>Rising and falling between a man and woman</td>\n",
       "      <td>rising and falling between a man and woman</td>\n",
       "    </tr>\n",
       "    <tr>\n",
       "      <th>Betrayal</th>\n",
       "      <td>67758</td>\n",
       "      <td>when one of her hits goes wrong, a professiona...</td>\n",
       "      <td>A deadly game of wits.</td>\n",
       "      <td>when one of her hits goes wrong a professional...</td>\n",
       "    </tr>\n",
       "  </tbody>\n",
       "</table>\n",
       "<p>20426 rows × 4 columns</p>\n",
       "</div>"
      ],
      "text/plain": [
       "                                 id  \\\n",
       "title                                 \n",
       "Jumanji                        8844   \n",
       "Grumpier Old Men              15602   \n",
       "Waiting to Exhale             31357   \n",
       "Father of the Bride Part II   11862   \n",
       "Heat                            949   \n",
       "...                             ...   \n",
       "The Morning After            420346   \n",
       "House of Horrors              84419   \n",
       "The Burkittsville 7          289923   \n",
       "Subdue                       439050   \n",
       "Betrayal                      67758   \n",
       "\n",
       "                                                                      overview  \\\n",
       "title                                                                            \n",
       "Jumanji                      when siblings judy and peter discover an encha...   \n",
       "Grumpier Old Men             a family wedding reignites the ancient feud be...   \n",
       "Waiting to Exhale            cheated on, mistreated and stepped on, the wom...   \n",
       "Father of the Bride Part II  just when george banks has recovered from his ...   \n",
       "Heat                         obsessive master thief, neil mccauley leads a ...   \n",
       "...                                                                        ...   \n",
       "The Morning After            the morning after is a feature film that consi...   \n",
       "House of Horrors             an unsuccessful sculptor saves a madman named ...   \n",
       "The Burkittsville 7          a film archivist revisits the story of rustin ...   \n",
       "Subdue                              rising and falling between a man and woman   \n",
       "Betrayal                     when one of her hits goes wrong, a professiona...   \n",
       "\n",
       "                                                                       tagline  \\\n",
       "title                                                                            \n",
       "Jumanji                              Roll the dice and unleash the excitement!   \n",
       "Grumpier Old Men             Still Yelling. Still Fighting. Still Ready for...   \n",
       "Waiting to Exhale            Friends are the people who let you be yourself...   \n",
       "Father of the Bride Part II  Just When His World Is Back To Normal... He's ...   \n",
       "Heat                                                  A Los Angeles Crime Saga   \n",
       "...                                                                        ...   \n",
       "The Morning After                                    What happened last night?   \n",
       "House of Horrors                                           Meet...The CREEPER!   \n",
       "The Burkittsville 7          Do you know what happened 50 years before \"The...   \n",
       "Subdue                              Rising and falling between a man and woman   \n",
       "Betrayal                                                A deadly game of wits.   \n",
       "\n",
       "                                                               overview_tokens  \n",
       "title                                                                           \n",
       "Jumanji                      when siblings judy and peter discover an encha...  \n",
       "Grumpier Old Men             a family wedding reignites the ancient feud be...  \n",
       "Waiting to Exhale            cheated on mistreated and stepped on the women...  \n",
       "Father of the Bride Part II  just when george banks has recovered from his ...  \n",
       "Heat                         obsessive master thief neil mccauley leads a t...  \n",
       "...                                                                        ...  \n",
       "The Morning After            the morning after is a feature film that consi...  \n",
       "House of Horrors             an unsuccessful sculptor saves a madman named ...  \n",
       "The Burkittsville 7          a film archivist revisits the story of rustin ...  \n",
       "Subdue                              rising and falling between a man and woman  \n",
       "Betrayal                     when one of her hits goes wrong a professional...  \n",
       "\n",
       "[20426 rows x 4 columns]"
      ]
     },
     "execution_count": 76,
     "metadata": {},
     "output_type": "execute_result"
    }
   ],
   "source": [
    "df"
   ]
  },
  {
   "cell_type": "code",
   "execution_count": 55,
   "metadata": {},
   "outputs": [
    {
     "name": "stdout",
     "output_type": "stream",
     "text": [
      "(20426, 4)\n"
     ]
    }
   ],
   "source": [
    "print(df.shape)"
   ]
  },
  {
   "cell_type": "markdown",
   "metadata": {},
   "source": [
    "### Set to lowercase"
   ]
  },
  {
   "cell_type": "code",
   "execution_count": 36,
   "metadata": {},
   "outputs": [],
   "source": [
    "df['overview'] = df['overview'].str.lower()"
   ]
  },
  {
   "cell_type": "markdown",
   "metadata": {},
   "source": [
    "### Remove fullstop endings"
   ]
  },
  {
   "cell_type": "code",
   "execution_count": 37,
   "metadata": {},
   "outputs": [],
   "source": [
    "df.loc[df['overview'].str.endswith('.'), 'overview'] = df.loc[df['overview'].str.endswith('.'), 'overview'].str[:-1]"
   ]
  },
  {
   "cell_type": "markdown",
   "metadata": {},
   "source": [
    "### Tokenize sentences"
   ]
  },
  {
   "cell_type": "code",
   "execution_count": 38,
   "metadata": {},
   "outputs": [],
   "source": [
    "from nltk.tokenize import RegexpTokenizer\n",
    "tokenizer = RegexpTokenizer(r'\\w+')"
   ]
  },
  {
   "cell_type": "code",
   "execution_count": 39,
   "metadata": {},
   "outputs": [],
   "source": [
    "df['overview_tokens'] = df['overview'].apply(tokenizer.tokenize).apply(lambda x: ' '.join(x))"
   ]
  },
  {
   "cell_type": "markdown",
   "metadata": {},
   "source": [
    "### Expand"
   ]
  },
  {
   "cell_type": "code",
   "execution_count": 40,
   "metadata": {},
   "outputs": [],
   "source": [
    "# expand out\n",
    "overview_exp = df['overview_tokens'].str.split(\" \", expand=True)"
   ]
  },
  {
   "cell_type": "markdown",
   "metadata": {},
   "source": [
    "### Using NLTK corpora of English *stop words* to filter"
   ]
  },
  {
   "cell_type": "code",
   "execution_count": 41,
   "metadata": {},
   "outputs": [],
   "source": [
    "from nltk.corpus import stopwords"
   ]
  },
  {
   "cell_type": "code",
   "execution_count": 42,
   "metadata": {},
   "outputs": [],
   "source": [
    "stop = stopwords.words('english')"
   ]
  },
  {
   "cell_type": "code",
   "execution_count": 43,
   "metadata": {},
   "outputs": [],
   "source": [
    "filter_w = \"^(?:\" + \"|\".join(stop).replace(\"'\", \"\\'\") + '|\\s)$'"
   ]
  },
  {
   "cell_type": "code",
   "execution_count": 44,
   "metadata": {},
   "outputs": [
    {
     "data": {
      "text/plain": [
       "\"^(?:i|me|my|myself|we|our|ours|ourselves|you|you're|you've|you'll|you'd|your|yours|yourself|yourselves|he|him|his|himself|she|she's|her|hers|herself|it|it's|its|itself|they|them|their|theirs|themselves|what|which|who|whom|this|that|that'll|these|those|am|is|are|was|were|be|been|being|have|has|had|having|do|does|did|doing|a|an|the|and|but|if|or|because|as|until|while|of|at|by|for|with|about|against|between|into|through|during|before|after|above|below|to|from|up|down|in|out|on|off|over|under|again|further|then|once|here|there|when|where|why|how|all|any|both|each|few|more|most|other|some|such|no|nor|not|only|own|same|so|than|too|very|s|t|can|will|just|don|don't|should|should've|now|d|ll|m|o|re|ve|y|ain|aren|aren't|couldn|couldn't|didn|didn't|doesn|doesn't|hadn|hadn't|hasn|hasn't|haven|haven't|isn|isn't|ma|mightn|mightn't|mustn|mustn't|needn|needn't|shan|shan't|shouldn|shouldn't|wasn|wasn't|weren|weren't|won|won't|wouldn|wouldn't|\\\\s)$\""
      ]
     },
     "execution_count": 44,
     "metadata": {},
     "output_type": "execute_result"
    }
   ],
   "source": [
    "filter_w"
   ]
  },
  {
   "cell_type": "markdown",
   "metadata": {},
   "source": [
    "## Filter out words"
   ]
  },
  {
   "cell_type": "code",
   "execution_count": 45,
   "metadata": {},
   "outputs": [],
   "source": [
    "repl = overview_exp.replace(filter_w, np.nan, regex=True).replace('', np.nan)"
   ]
  },
  {
   "cell_type": "code",
   "execution_count": 69,
   "metadata": {},
   "outputs": [],
   "source": [
    "list_lists = repl.apply(lambda x: x.str.cat(sep=';'), axis=1).str.split(';')"
   ]
  },
  {
   "cell_type": "code",
   "execution_count": 47,
   "metadata": {},
   "outputs": [
    {
     "name": "stdout",
     "output_type": "stream",
     "text": [
      "(20426, 308)\n"
     ]
    },
    {
     "data": {
      "text/html": [
       "<div>\n",
       "<style scoped>\n",
       "    .dataframe tbody tr th:only-of-type {\n",
       "        vertical-align: middle;\n",
       "    }\n",
       "\n",
       "    .dataframe tbody tr th {\n",
       "        vertical-align: top;\n",
       "    }\n",
       "\n",
       "    .dataframe thead th {\n",
       "        text-align: right;\n",
       "    }\n",
       "</style>\n",
       "<table border=\"1\" class=\"dataframe\">\n",
       "  <thead>\n",
       "    <tr style=\"text-align: right;\">\n",
       "      <th></th>\n",
       "      <th>0</th>\n",
       "      <th>1</th>\n",
       "      <th>2</th>\n",
       "      <th>3</th>\n",
       "      <th>4</th>\n",
       "      <th>5</th>\n",
       "      <th>6</th>\n",
       "      <th>7</th>\n",
       "      <th>8</th>\n",
       "      <th>9</th>\n",
       "      <th>...</th>\n",
       "      <th>298</th>\n",
       "      <th>299</th>\n",
       "      <th>300</th>\n",
       "      <th>301</th>\n",
       "      <th>302</th>\n",
       "      <th>303</th>\n",
       "      <th>304</th>\n",
       "      <th>305</th>\n",
       "      <th>306</th>\n",
       "      <th>307</th>\n",
       "    </tr>\n",
       "    <tr>\n",
       "      <th>title</th>\n",
       "      <th></th>\n",
       "      <th></th>\n",
       "      <th></th>\n",
       "      <th></th>\n",
       "      <th></th>\n",
       "      <th></th>\n",
       "      <th></th>\n",
       "      <th></th>\n",
       "      <th></th>\n",
       "      <th></th>\n",
       "      <th></th>\n",
       "      <th></th>\n",
       "      <th></th>\n",
       "      <th></th>\n",
       "      <th></th>\n",
       "      <th></th>\n",
       "      <th></th>\n",
       "      <th></th>\n",
       "      <th></th>\n",
       "      <th></th>\n",
       "      <th></th>\n",
       "    </tr>\n",
       "  </thead>\n",
       "  <tbody>\n",
       "    <tr>\n",
       "      <th>Jumanji</th>\n",
       "      <td>NaN</td>\n",
       "      <td>siblings</td>\n",
       "      <td>judy</td>\n",
       "      <td>NaN</td>\n",
       "      <td>peter</td>\n",
       "      <td>discover</td>\n",
       "      <td>NaN</td>\n",
       "      <td>enchanted</td>\n",
       "      <td>board</td>\n",
       "      <td>game</td>\n",
       "      <td>...</td>\n",
       "      <td>None</td>\n",
       "      <td>None</td>\n",
       "      <td>None</td>\n",
       "      <td>None</td>\n",
       "      <td>None</td>\n",
       "      <td>None</td>\n",
       "      <td>None</td>\n",
       "      <td>None</td>\n",
       "      <td>None</td>\n",
       "      <td>None</td>\n",
       "    </tr>\n",
       "    <tr>\n",
       "      <th>Grumpier Old Men</th>\n",
       "      <td>NaN</td>\n",
       "      <td>family</td>\n",
       "      <td>wedding</td>\n",
       "      <td>reignites</td>\n",
       "      <td>NaN</td>\n",
       "      <td>ancient</td>\n",
       "      <td>feud</td>\n",
       "      <td>NaN</td>\n",
       "      <td>next</td>\n",
       "      <td>door</td>\n",
       "      <td>...</td>\n",
       "      <td>None</td>\n",
       "      <td>None</td>\n",
       "      <td>None</td>\n",
       "      <td>None</td>\n",
       "      <td>None</td>\n",
       "      <td>None</td>\n",
       "      <td>None</td>\n",
       "      <td>None</td>\n",
       "      <td>None</td>\n",
       "      <td>None</td>\n",
       "    </tr>\n",
       "    <tr>\n",
       "      <th>Waiting to Exhale</th>\n",
       "      <td>cheated</td>\n",
       "      <td>NaN</td>\n",
       "      <td>mistreated</td>\n",
       "      <td>NaN</td>\n",
       "      <td>stepped</td>\n",
       "      <td>NaN</td>\n",
       "      <td>NaN</td>\n",
       "      <td>women</td>\n",
       "      <td>NaN</td>\n",
       "      <td>holding</td>\n",
       "      <td>...</td>\n",
       "      <td>None</td>\n",
       "      <td>None</td>\n",
       "      <td>None</td>\n",
       "      <td>None</td>\n",
       "      <td>None</td>\n",
       "      <td>None</td>\n",
       "      <td>None</td>\n",
       "      <td>None</td>\n",
       "      <td>None</td>\n",
       "      <td>None</td>\n",
       "    </tr>\n",
       "    <tr>\n",
       "      <th>Father of the Bride Part II</th>\n",
       "      <td>NaN</td>\n",
       "      <td>NaN</td>\n",
       "      <td>george</td>\n",
       "      <td>banks</td>\n",
       "      <td>NaN</td>\n",
       "      <td>recovered</td>\n",
       "      <td>NaN</td>\n",
       "      <td>NaN</td>\n",
       "      <td>daughter</td>\n",
       "      <td>NaN</td>\n",
       "      <td>...</td>\n",
       "      <td>None</td>\n",
       "      <td>None</td>\n",
       "      <td>None</td>\n",
       "      <td>None</td>\n",
       "      <td>None</td>\n",
       "      <td>None</td>\n",
       "      <td>None</td>\n",
       "      <td>None</td>\n",
       "      <td>None</td>\n",
       "      <td>None</td>\n",
       "    </tr>\n",
       "    <tr>\n",
       "      <th>Heat</th>\n",
       "      <td>obsessive</td>\n",
       "      <td>master</td>\n",
       "      <td>thief</td>\n",
       "      <td>neil</td>\n",
       "      <td>mccauley</td>\n",
       "      <td>leads</td>\n",
       "      <td>NaN</td>\n",
       "      <td>top</td>\n",
       "      <td>notch</td>\n",
       "      <td>crew</td>\n",
       "      <td>...</td>\n",
       "      <td>None</td>\n",
       "      <td>None</td>\n",
       "      <td>None</td>\n",
       "      <td>None</td>\n",
       "      <td>None</td>\n",
       "      <td>None</td>\n",
       "      <td>None</td>\n",
       "      <td>None</td>\n",
       "      <td>None</td>\n",
       "      <td>None</td>\n",
       "    </tr>\n",
       "  </tbody>\n",
       "</table>\n",
       "<p>5 rows × 308 columns</p>\n",
       "</div>"
      ],
      "text/plain": [
       "                                   0         1           2          3    \\\n",
       "title                                                                     \n",
       "Jumanji                            NaN  siblings        judy        NaN   \n",
       "Grumpier Old Men                   NaN    family     wedding  reignites   \n",
       "Waiting to Exhale              cheated       NaN  mistreated        NaN   \n",
       "Father of the Bride Part II        NaN       NaN      george      banks   \n",
       "Heat                         obsessive    master       thief       neil   \n",
       "\n",
       "                                  4          5     6          7         8    \\\n",
       "title                                                                         \n",
       "Jumanji                         peter   discover   NaN  enchanted     board   \n",
       "Grumpier Old Men                  NaN    ancient  feud        NaN      next   \n",
       "Waiting to Exhale             stepped        NaN   NaN      women       NaN   \n",
       "Father of the Bride Part II       NaN  recovered   NaN        NaN  daughter   \n",
       "Heat                         mccauley      leads   NaN        top     notch   \n",
       "\n",
       "                                 9    ...   298   299   300   301   302   303  \\\n",
       "title                                 ...                                       \n",
       "Jumanji                         game  ...  None  None  None  None  None  None   \n",
       "Grumpier Old Men                door  ...  None  None  None  None  None  None   \n",
       "Waiting to Exhale            holding  ...  None  None  None  None  None  None   \n",
       "Father of the Bride Part II      NaN  ...  None  None  None  None  None  None   \n",
       "Heat                            crew  ...  None  None  None  None  None  None   \n",
       "\n",
       "                              304   305   306   307  \n",
       "title                                                \n",
       "Jumanji                      None  None  None  None  \n",
       "Grumpier Old Men             None  None  None  None  \n",
       "Waiting to Exhale            None  None  None  None  \n",
       "Father of the Bride Part II  None  None  None  None  \n",
       "Heat                         None  None  None  None  \n",
       "\n",
       "[5 rows x 308 columns]"
      ]
     },
     "execution_count": 47,
     "metadata": {},
     "output_type": "execute_result"
    }
   ],
   "source": [
    "print(repl.shape)\n",
    "repl.head()"
   ]
  },
  {
   "cell_type": "code",
   "execution_count": 70,
   "metadata": {},
   "outputs": [],
   "source": [
    "word2vec_ready = list_lists.tolist()"
   ]
  },
  {
   "cell_type": "markdown",
   "metadata": {},
   "source": [
    "## Deploying Word2Vec"
   ]
  },
  {
   "cell_type": "code",
   "execution_count": 71,
   "metadata": {},
   "outputs": [],
   "source": [
    "model = gensim.models.Word2Vec(word2vec_ready, min_count=1, size=100, workers=3, window=3, sg=1)"
   ]
  },
  {
   "cell_type": "code",
   "execution_count": 72,
   "metadata": {
    "scrolled": true
   },
   "outputs": [],
   "source": [
    "X = model.wv[model.wv.vocab]"
   ]
  },
  {
   "cell_type": "markdown",
   "metadata": {},
   "source": [
    "### Project using PCA"
   ]
  },
  {
   "cell_type": "code",
   "execution_count": 73,
   "metadata": {},
   "outputs": [],
   "source": [
    "from sklearn.decomposition import PCA"
   ]
  },
  {
   "cell_type": "code",
   "execution_count": 74,
   "metadata": {},
   "outputs": [],
   "source": [
    "pca_t = PCA(2).fit_transform(X)"
   ]
  },
  {
   "cell_type": "code",
   "execution_count": 75,
   "metadata": {},
   "outputs": [
    {
     "data": {
      "image/png": "[encoded data removed]",
      "text/plain": [
       "<Figure size 432x288 with 1 Axes>"
      ]
     },
     "metadata": {
      "needs_background": "light"
     },
     "output_type": "display_data"
    }
   ],
   "source": [
    "plt.scatter(pca_t[:, 0], pca_t[:, 1],alpha=.3)\n",
    "plt.show()"
   ]
  },
  {
   "cell_type": "markdown",
   "metadata": {},
   "source": [
    "### Most similar"
   ]
  },
  {
   "cell_type": "code",
   "execution_count": 56,
   "metadata": {},
   "outputs": [
    {
     "name": "stderr",
     "output_type": "stream",
     "text": [
      "//anaconda/envs/hacksouth/lib/python3.7/site-packages/ipykernel_launcher.py:1: DeprecationWarning: Call to deprecated `most_similar` (Method will be removed in 4.0.0, use self.wv.most_similar() instead).\n",
      "  \"\"\"Entry point for launching an IPython kernel.\n"
     ]
    },
    {
     "data": {
      "text/plain": [
       "[('alternate', 0.9888033866882324),\n",
       " ('climactic', 0.9886969923973083),\n",
       " ('otherworldly', 0.986829400062561),\n",
       " ('atmosphere', 0.9866527318954468),\n",
       " ('reaction', 0.9865977168083191),\n",
       " ('villains', 0.9865387678146362),\n",
       " ('describes', 0.9863992929458618),\n",
       " ('spawned', 0.986178994178772),\n",
       " ('encountered', 0.9858294129371643),\n",
       " ('murky', 0.9856820106506348)]"
      ]
     },
     "execution_count": 56,
     "metadata": {},
     "output_type": "execute_result"
    }
   ],
   "source": [
    "model.most_similar('victory')[:10]"
   ]
  },
  {
   "cell_type": "markdown",
   "metadata": {},
   "source": [
    "## Linking to Movie Metadata"
   ]
  },
  {
   "cell_type": "code",
   "execution_count": 79,
   "metadata": {},
   "outputs": [],
   "source": [
    "import json"
   ]
  },
  {
   "cell_type": "code",
   "execution_count": 77,
   "metadata": {},
   "outputs": [
    {
     "name": "stderr",
     "output_type": "stream",
     "text": [
      "//anaconda/envs/hacksouth/lib/python3.7/site-packages/IPython/core/interactiveshell.py:3063: DtypeWarning: Columns (10) have mixed types.Specify dtype option on import or set low_memory=False.\n",
      "  interactivity=interactivity, compiler=compiler, result=result)\n"
     ]
    }
   ],
   "source": [
    "movie = pd.read_csv('movies_metadata.csv')"
   ]
  },
  {
   "cell_type": "code",
   "execution_count": 90,
   "metadata": {},
   "outputs": [
    {
     "data": {
      "text/plain": [
       "{'id': 10194,\n",
       " 'name': 'Toy Story Collection',\n",
       " 'poster_path': '/7G9915LfUQ2lVfwMEEhDsn3kT4B.jpg',\n",
       " 'backdrop_path': '/9FBwqcd9IRruEDUrTdcaafOMKUq.jpg'}"
      ]
     },
     "execution_count": 90,
     "metadata": {},
     "output_type": "execute_result"
    }
   ],
   "source": [
    "json.loads(movie['belongs_to_collection'].dropna()[0].replace(\"'\", '\"'))"
   ]
  },
  {
   "cell_type": "code",
   "execution_count": null,
   "metadata": {},
   "outputs": [],
   "source": []
  }
 ],
 "metadata": {
  "kernelspec": {
   "display_name": "Python 3",
   "language": "python",
   "name": "python3"
  },
  "language_info": {
   "codemirror_mode": {
    "name": "ipython",
    "version": 3
   },
   "file_extension": ".py",
   "mimetype": "text/x-python",
   "name": "python",
   "nbconvert_exporter": "python",
   "pygments_lexer": "ipython3",
   "version": "3.7.6"
  }
 },
 "nbformat": 4,
 "nbformat_minor": 4
}
