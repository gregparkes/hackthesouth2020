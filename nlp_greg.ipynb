{
 "cells": [
  {
   "cell_type": "markdown",
   "metadata": {},
   "source": [
    "# NLP with NLTK and Word2Vec\n",
    "\n",
    "Here we're working with the preprocessed movies dataset to figure out how to map these descriptions into some subspace of interest."
   ]
  },
  {
   "cell_type": "code",
   "execution_count": 13,
   "metadata": {},
   "outputs": [],
   "source": [
    "import gensim\n",
    "import nltk\n",
    "import pandas as pd\n",
    "import numpy as np\n",
    "import seaborn as sns\n",
    "import matplotlib.pyplot as plt\n",
    "%matplotlib inline"
   ]
  },
  {
   "cell_type": "code",
   "execution_count": 253,
   "metadata": {},
   "outputs": [],
   "source": [
    "import word2vectorizer as w2v"
   ]
  },
  {
   "cell_type": "markdown",
   "metadata": {},
   "source": [
    "#### NLTK packages"
   ]
  },
  {
   "cell_type": "code",
   "execution_count": 14,
   "metadata": {
    "scrolled": true
   },
   "outputs": [
    {
     "name": "stderr",
     "output_type": "stream",
     "text": [
      "[nltk_data] Downloading package punkt to /Users/Greg/nltk_data...\n",
      "[nltk_data]   Package punkt is already up-to-date!\n",
      "[nltk_data] Downloading package stopwords to /Users/Greg/nltk_data...\n",
      "[nltk_data]   Package stopwords is already up-to-date!\n"
     ]
    },
    {
     "data": {
      "text/plain": [
       "True"
      ]
     },
     "execution_count": 14,
     "metadata": {},
     "output_type": "execute_result"
    }
   ],
   "source": [
    "nltk.download('punkt')\n",
    "# download stop words using nltk\n",
    "nltk.download('stopwords')"
   ]
  },
  {
   "cell_type": "markdown",
   "metadata": {},
   "source": [
    "## Import NLP dataset"
   ]
  },
  {
   "cell_type": "code",
   "execution_count": 116,
   "metadata": {},
   "outputs": [],
   "source": [
    "df = (pd.read_csv(\"df__nlp.csv\", header=0, sep=',', encoding='latin-1')\n",
    "    .dropna(subset=['title', 'id', 'overview'])\n",
    "    .drop('original_title', axis=1)\n",
    "    .set_index('title'))"
   ]
  },
  {
   "cell_type": "code",
   "execution_count": 117,
   "metadata": {},
   "outputs": [
    {
     "data": {
      "text/html": [
       "<div>\n",
       "<style scoped>\n",
       "    .dataframe tbody tr th:only-of-type {\n",
       "        vertical-align: middle;\n",
       "    }\n",
       "\n",
       "    .dataframe tbody tr th {\n",
       "        vertical-align: top;\n",
       "    }\n",
       "\n",
       "    .dataframe thead th {\n",
       "        text-align: right;\n",
       "    }\n",
       "</style>\n",
       "<table border=\"1\" class=\"dataframe\">\n",
       "  <thead>\n",
       "    <tr style=\"text-align: right;\">\n",
       "      <th></th>\n",
       "      <th>id</th>\n",
       "      <th>overview</th>\n",
       "      <th>tagline</th>\n",
       "      <th>original_language</th>\n",
       "    </tr>\n",
       "    <tr>\n",
       "      <th>title</th>\n",
       "      <th></th>\n",
       "      <th></th>\n",
       "      <th></th>\n",
       "      <th></th>\n",
       "    </tr>\n",
       "  </thead>\n",
       "  <tbody>\n",
       "    <tr>\n",
       "      <th>Mission: Impossible - Rogue Nation</th>\n",
       "      <td>177677</td>\n",
       "      <td>Ethan and team take on their most impossible m...</td>\n",
       "      <td>Desperate Times. Desperate Measures.</td>\n",
       "      <td>en</td>\n",
       "    </tr>\n",
       "    <tr>\n",
       "      <th>The Killer Is Loose</th>\n",
       "      <td>27999</td>\n",
       "      <td>A savings-and-loan bank is robbed; later, a po...</td>\n",
       "      <td>He was no ordinary killer... She was no ordina...</td>\n",
       "      <td>en</td>\n",
       "    </tr>\n",
       "    <tr>\n",
       "      <th>Blithe Spirit</th>\n",
       "      <td>19072</td>\n",
       "      <td>An English mystery novelist invites a medium t...</td>\n",
       "      <td>One Wife Too Many</td>\n",
       "      <td>en</td>\n",
       "    </tr>\n",
       "    <tr>\n",
       "      <th>Lola</th>\n",
       "      <td>77925</td>\n",
       "      <td>A middle aged writer of pornographic novels me...</td>\n",
       "      <td>It may be love... but it's definitely exhausting!</td>\n",
       "      <td>en</td>\n",
       "    </tr>\n",
       "    <tr>\n",
       "      <th>House of the Dead</th>\n",
       "      <td>11059</td>\n",
       "      <td>Set on an island off the coast, a techno rave ...</td>\n",
       "      <td>You won't last the night.</td>\n",
       "      <td>en</td>\n",
       "    </tr>\n",
       "    <tr>\n",
       "      <th>The Long Goodbye</th>\n",
       "      <td>1847</td>\n",
       "      <td>Detective Philip Marlowe tries to help a frien...</td>\n",
       "      <td>Nothing says goodbye like a bullet...</td>\n",
       "      <td>en</td>\n",
       "    </tr>\n",
       "    <tr>\n",
       "      <th>Life Begins for Andy Hardy</th>\n",
       "      <td>43793</td>\n",
       "      <td>With his high school graduation behind him, An...</td>\n",
       "      <td>Mickey woos! Judy sings! Best Hardy hit yet!</td>\n",
       "      <td>en</td>\n",
       "    </tr>\n",
       "    <tr>\n",
       "      <th>Marvin's Room</th>\n",
       "      <td>9819</td>\n",
       "      <td>A leukemia patient attempts to end a 20-year f...</td>\n",
       "      <td>A story about the years that keep us apart... ...</td>\n",
       "      <td>en</td>\n",
       "    </tr>\n",
       "    <tr>\n",
       "      <th>Trance</th>\n",
       "      <td>68727</td>\n",
       "      <td>A fine art auctioneer mixed up with a gang, jo...</td>\n",
       "      <td>Don't be a hero.</td>\n",
       "      <td>en</td>\n",
       "    </tr>\n",
       "    <tr>\n",
       "      <th>Ten Canoes</th>\n",
       "      <td>14064</td>\n",
       "      <td>A story within a story within a story. In Aust...</td>\n",
       "      <td>Ten canoes, three wives, one hundred and fifty...</td>\n",
       "      <td>en</td>\n",
       "    </tr>\n",
       "  </tbody>\n",
       "</table>\n",
       "</div>"
      ],
      "text/plain": [
       "                                        id  \\\n",
       "title                                        \n",
       "Mission: Impossible - Rogue Nation  177677   \n",
       "The Killer Is Loose                  27999   \n",
       "Blithe Spirit                        19072   \n",
       "Lola                                 77925   \n",
       "House of the Dead                    11059   \n",
       "The Long Goodbye                      1847   \n",
       "Life Begins for Andy Hardy           43793   \n",
       "Marvin's Room                         9819   \n",
       "Trance                               68727   \n",
       "Ten Canoes                           14064   \n",
       "\n",
       "                                                                             overview  \\\n",
       "title                                                                                   \n",
       "Mission: Impossible - Rogue Nation  Ethan and team take on their most impossible m...   \n",
       "The Killer Is Loose                 A savings-and-loan bank is robbed; later, a po...   \n",
       "Blithe Spirit                       An English mystery novelist invites a medium t...   \n",
       "Lola                                A middle aged writer of pornographic novels me...   \n",
       "House of the Dead                   Set on an island off the coast, a techno rave ...   \n",
       "The Long Goodbye                    Detective Philip Marlowe tries to help a frien...   \n",
       "Life Begins for Andy Hardy          With his high school graduation behind him, An...   \n",
       "Marvin's Room                       A leukemia patient attempts to end a 20-year f...   \n",
       "Trance                              A fine art auctioneer mixed up with a gang, jo...   \n",
       "Ten Canoes                          A story within a story within a story. In Aust...   \n",
       "\n",
       "                                                                              tagline  \\\n",
       "title                                                                                   \n",
       "Mission: Impossible - Rogue Nation               Desperate Times. Desperate Measures.   \n",
       "The Killer Is Loose                 He was no ordinary killer... She was no ordina...   \n",
       "Blithe Spirit                                                       One Wife Too Many   \n",
       "Lola                                It may be love... but it's definitely exhausting!   \n",
       "House of the Dead                                           You won't last the night.   \n",
       "The Long Goodbye                                Nothing says goodbye like a bullet...   \n",
       "Life Begins for Andy Hardy               Mickey woos! Judy sings! Best Hardy hit yet!   \n",
       "Marvin's Room                       A story about the years that keep us apart... ...   \n",
       "Trance                                                               Don't be a hero.   \n",
       "Ten Canoes                          Ten canoes, three wives, one hundred and fifty...   \n",
       "\n",
       "                                   original_language  \n",
       "title                                                 \n",
       "Mission: Impossible - Rogue Nation                en  \n",
       "The Killer Is Loose                               en  \n",
       "Blithe Spirit                                     en  \n",
       "Lola                                              en  \n",
       "House of the Dead                                 en  \n",
       "The Long Goodbye                                  en  \n",
       "Life Begins for Andy Hardy                        en  \n",
       "Marvin's Room                                     en  \n",
       "Trance                                            en  \n",
       "Ten Canoes                                        en  "
      ]
     },
     "execution_count": 117,
     "metadata": {},
     "output_type": "execute_result"
    }
   ],
   "source": [
    "df.sample(10)"
   ]
  },
  {
   "cell_type": "code",
   "execution_count": 118,
   "metadata": {},
   "outputs": [
    {
     "name": "stdout",
     "output_type": "stream",
     "text": [
      "(17945, 4)\n"
     ]
    }
   ],
   "source": [
    "print(df.shape)"
   ]
  },
  {
   "cell_type": "markdown",
   "metadata": {},
   "source": [
    "### Set to lowercase"
   ]
  },
  {
   "cell_type": "code",
   "execution_count": 145,
   "metadata": {},
   "outputs": [],
   "source": [
    "df['overview'] = df['overview'].str.lower()\n",
    "df['tagline'] = df['tagline'].str.lower()"
   ]
  },
  {
   "cell_type": "markdown",
   "metadata": {},
   "source": [
    "### Remove fullstop endings"
   ]
  },
  {
   "cell_type": "code",
   "execution_count": 146,
   "metadata": {},
   "outputs": [],
   "source": [
    "df.loc[df['overview'].str.endswith('.'), 'overview'] = df.loc[df['overview'].str.endswith('.'), 'overview'].str[:-1]\n",
    "df.loc[df['tagline'].str.endswith('.'), 'tagline'] = df.loc[df['tagline'].str.endswith('.'), 'tagline'].str[:-1]"
   ]
  },
  {
   "cell_type": "markdown",
   "metadata": {},
   "source": [
    "### Tokenize sentences"
   ]
  },
  {
   "cell_type": "code",
   "execution_count": 121,
   "metadata": {},
   "outputs": [],
   "source": [
    "from nltk.tokenize import RegexpTokenizer\n",
    "tokenizer = RegexpTokenizer(r'\\w+')"
   ]
  },
  {
   "cell_type": "code",
   "execution_count": 155,
   "metadata": {},
   "outputs": [],
   "source": [
    "df['tokened'] = (df['overview'] + df['tagline']).apply(tokenizer.tokenize).apply(lambda x: ' '.join(x))"
   ]
  },
  {
   "cell_type": "markdown",
   "metadata": {},
   "source": [
    "### Expand"
   ]
  },
  {
   "cell_type": "code",
   "execution_count": 157,
   "metadata": {},
   "outputs": [],
   "source": [
    "# expand out\n",
    "overview_exp = df['tokened'].str.split(\" \", expand=True)"
   ]
  },
  {
   "cell_type": "markdown",
   "metadata": {},
   "source": [
    "### Using NLTK corpora of English *stop words* to filter"
   ]
  },
  {
   "cell_type": "code",
   "execution_count": 158,
   "metadata": {},
   "outputs": [],
   "source": [
    "from nltk.corpus import stopwords"
   ]
  },
  {
   "cell_type": "code",
   "execution_count": 159,
   "metadata": {},
   "outputs": [],
   "source": [
    "stop = stopwords.words('english')"
   ]
  },
  {
   "cell_type": "code",
   "execution_count": 160,
   "metadata": {},
   "outputs": [],
   "source": [
    "filter_w = \"^(?:\" + \"|\".join(stop).replace(\"'\", \"\\'\") + '|\\s)$'"
   ]
  },
  {
   "cell_type": "code",
   "execution_count": 161,
   "metadata": {},
   "outputs": [
    {
     "data": {
      "text/plain": [
       "\"^(?:i|me|my|myself|we|our|ours|ourselves|you|you're|you've|you'll|you'd|your|yours|yourself|yourselves|he|him|his|himself|she|she's|her|hers|herself|it|it's|its|itself|they|them|their|theirs|themselves|what|which|who|whom|this|that|that'll|these|those|am|is|are|was|were|be|been|being|have|has|had|having|do|does|did|doing|a|an|the|and|but|if|or|because|as|until|while|of|at|by|for|with|about|against|between|into|through|during|before|after|above|below|to|from|up|down|in|out|on|off|over|under|again|further|then|once|here|there|when|where|why|how|all|any|both|each|few|more|most|other|some|such|no|nor|not|only|own|same|so|than|too|very|s|t|can|will|just|don|don't|should|should've|now|d|ll|m|o|re|ve|y|ain|aren|aren't|couldn|couldn't|didn|didn't|doesn|doesn't|hadn|hadn't|hasn|hasn't|haven|haven't|isn|isn't|ma|mightn|mightn't|mustn|mustn't|needn|needn't|shan|shan't|shouldn|shouldn't|wasn|wasn't|weren|weren't|won|won't|wouldn|wouldn't|\\\\s)$\""
      ]
     },
     "execution_count": 161,
     "metadata": {},
     "output_type": "execute_result"
    }
   ],
   "source": [
    "filter_w"
   ]
  },
  {
   "cell_type": "markdown",
   "metadata": {},
   "source": [
    "## Filter out words"
   ]
  },
  {
   "cell_type": "code",
   "execution_count": 162,
   "metadata": {},
   "outputs": [],
   "source": [
    "repl = overview_exp.replace(filter_w, np.nan, regex=True).replace('', np.nan)"
   ]
  },
  {
   "cell_type": "code",
   "execution_count": 163,
   "metadata": {},
   "outputs": [],
   "source": [
    "list_lists = repl.apply(lambda x: x.str.cat(sep=';'), axis=1).str.split(';')"
   ]
  },
  {
   "cell_type": "code",
   "execution_count": 164,
   "metadata": {},
   "outputs": [
    {
     "name": "stdout",
     "output_type": "stream",
     "text": [
      "(17945, 212)\n"
     ]
    },
    {
     "data": {
      "text/html": [
       "<div>\n",
       "<style scoped>\n",
       "    .dataframe tbody tr th:only-of-type {\n",
       "        vertical-align: middle;\n",
       "    }\n",
       "\n",
       "    .dataframe tbody tr th {\n",
       "        vertical-align: top;\n",
       "    }\n",
       "\n",
       "    .dataframe thead th {\n",
       "        text-align: right;\n",
       "    }\n",
       "</style>\n",
       "<table border=\"1\" class=\"dataframe\">\n",
       "  <thead>\n",
       "    <tr style=\"text-align: right;\">\n",
       "      <th></th>\n",
       "      <th>0</th>\n",
       "      <th>1</th>\n",
       "      <th>2</th>\n",
       "      <th>3</th>\n",
       "      <th>4</th>\n",
       "      <th>5</th>\n",
       "      <th>6</th>\n",
       "      <th>7</th>\n",
       "      <th>8</th>\n",
       "      <th>9</th>\n",
       "      <th>...</th>\n",
       "      <th>202</th>\n",
       "      <th>203</th>\n",
       "      <th>204</th>\n",
       "      <th>205</th>\n",
       "      <th>206</th>\n",
       "      <th>207</th>\n",
       "      <th>208</th>\n",
       "      <th>209</th>\n",
       "      <th>210</th>\n",
       "      <th>211</th>\n",
       "    </tr>\n",
       "    <tr>\n",
       "      <th>title</th>\n",
       "      <th></th>\n",
       "      <th></th>\n",
       "      <th></th>\n",
       "      <th></th>\n",
       "      <th></th>\n",
       "      <th></th>\n",
       "      <th></th>\n",
       "      <th></th>\n",
       "      <th></th>\n",
       "      <th></th>\n",
       "      <th></th>\n",
       "      <th></th>\n",
       "      <th></th>\n",
       "      <th></th>\n",
       "      <th></th>\n",
       "      <th></th>\n",
       "      <th></th>\n",
       "      <th></th>\n",
       "      <th></th>\n",
       "      <th></th>\n",
       "      <th></th>\n",
       "    </tr>\n",
       "  </thead>\n",
       "  <tbody>\n",
       "    <tr>\n",
       "      <th>Jumanji</th>\n",
       "      <td>NaN</td>\n",
       "      <td>siblings</td>\n",
       "      <td>judy</td>\n",
       "      <td>NaN</td>\n",
       "      <td>peter</td>\n",
       "      <td>discover</td>\n",
       "      <td>NaN</td>\n",
       "      <td>enchanted</td>\n",
       "      <td>board</td>\n",
       "      <td>game</td>\n",
       "      <td>...</td>\n",
       "      <td>NaN</td>\n",
       "      <td>None</td>\n",
       "      <td>NaN</td>\n",
       "      <td>None</td>\n",
       "      <td>None</td>\n",
       "      <td>NaN</td>\n",
       "      <td>None</td>\n",
       "      <td>NaN</td>\n",
       "      <td>NaN</td>\n",
       "      <td>None</td>\n",
       "    </tr>\n",
       "    <tr>\n",
       "      <th>Grumpier Old Men</th>\n",
       "      <td>NaN</td>\n",
       "      <td>family</td>\n",
       "      <td>wedding</td>\n",
       "      <td>reignites</td>\n",
       "      <td>NaN</td>\n",
       "      <td>ancient</td>\n",
       "      <td>feud</td>\n",
       "      <td>NaN</td>\n",
       "      <td>next</td>\n",
       "      <td>door</td>\n",
       "      <td>...</td>\n",
       "      <td>NaN</td>\n",
       "      <td>None</td>\n",
       "      <td>NaN</td>\n",
       "      <td>None</td>\n",
       "      <td>None</td>\n",
       "      <td>NaN</td>\n",
       "      <td>None</td>\n",
       "      <td>NaN</td>\n",
       "      <td>NaN</td>\n",
       "      <td>None</td>\n",
       "    </tr>\n",
       "    <tr>\n",
       "      <th>Waiting to Exhale</th>\n",
       "      <td>cheated</td>\n",
       "      <td>NaN</td>\n",
       "      <td>mistreated</td>\n",
       "      <td>NaN</td>\n",
       "      <td>stepped</td>\n",
       "      <td>NaN</td>\n",
       "      <td>NaN</td>\n",
       "      <td>women</td>\n",
       "      <td>NaN</td>\n",
       "      <td>holding</td>\n",
       "      <td>...</td>\n",
       "      <td>NaN</td>\n",
       "      <td>None</td>\n",
       "      <td>NaN</td>\n",
       "      <td>None</td>\n",
       "      <td>None</td>\n",
       "      <td>NaN</td>\n",
       "      <td>None</td>\n",
       "      <td>NaN</td>\n",
       "      <td>NaN</td>\n",
       "      <td>None</td>\n",
       "    </tr>\n",
       "    <tr>\n",
       "      <th>Father of the Bride Part II</th>\n",
       "      <td>NaN</td>\n",
       "      <td>NaN</td>\n",
       "      <td>george</td>\n",
       "      <td>banks</td>\n",
       "      <td>NaN</td>\n",
       "      <td>recovered</td>\n",
       "      <td>NaN</td>\n",
       "      <td>NaN</td>\n",
       "      <td>daughter</td>\n",
       "      <td>NaN</td>\n",
       "      <td>...</td>\n",
       "      <td>NaN</td>\n",
       "      <td>None</td>\n",
       "      <td>NaN</td>\n",
       "      <td>None</td>\n",
       "      <td>None</td>\n",
       "      <td>NaN</td>\n",
       "      <td>None</td>\n",
       "      <td>NaN</td>\n",
       "      <td>NaN</td>\n",
       "      <td>None</td>\n",
       "    </tr>\n",
       "    <tr>\n",
       "      <th>Heat</th>\n",
       "      <td>obsessive</td>\n",
       "      <td>master</td>\n",
       "      <td>thief</td>\n",
       "      <td>neil</td>\n",
       "      <td>mccauley</td>\n",
       "      <td>leads</td>\n",
       "      <td>NaN</td>\n",
       "      <td>top</td>\n",
       "      <td>notch</td>\n",
       "      <td>crew</td>\n",
       "      <td>...</td>\n",
       "      <td>NaN</td>\n",
       "      <td>None</td>\n",
       "      <td>NaN</td>\n",
       "      <td>None</td>\n",
       "      <td>None</td>\n",
       "      <td>NaN</td>\n",
       "      <td>None</td>\n",
       "      <td>NaN</td>\n",
       "      <td>NaN</td>\n",
       "      <td>None</td>\n",
       "    </tr>\n",
       "  </tbody>\n",
       "</table>\n",
       "<p>5 rows × 212 columns</p>\n",
       "</div>"
      ],
      "text/plain": [
       "                                   0         1           2          3    \\\n",
       "title                                                                     \n",
       "Jumanji                            NaN  siblings        judy        NaN   \n",
       "Grumpier Old Men                   NaN    family     wedding  reignites   \n",
       "Waiting to Exhale              cheated       NaN  mistreated        NaN   \n",
       "Father of the Bride Part II        NaN       NaN      george      banks   \n",
       "Heat                         obsessive    master       thief       neil   \n",
       "\n",
       "                                  4          5     6          7         8    \\\n",
       "title                                                                         \n",
       "Jumanji                         peter   discover   NaN  enchanted     board   \n",
       "Grumpier Old Men                  NaN    ancient  feud        NaN      next   \n",
       "Waiting to Exhale             stepped        NaN   NaN      women       NaN   \n",
       "Father of the Bride Part II       NaN  recovered   NaN        NaN  daughter   \n",
       "Heat                         mccauley      leads   NaN        top     notch   \n",
       "\n",
       "                                 9    ... 202   203 204   205   206 207   208  \\\n",
       "title                                 ...                                       \n",
       "Jumanji                         game  ... NaN  None NaN  None  None NaN  None   \n",
       "Grumpier Old Men                door  ... NaN  None NaN  None  None NaN  None   \n",
       "Waiting to Exhale            holding  ... NaN  None NaN  None  None NaN  None   \n",
       "Father of the Bride Part II      NaN  ... NaN  None NaN  None  None NaN  None   \n",
       "Heat                            crew  ... NaN  None NaN  None  None NaN  None   \n",
       "\n",
       "                            209 210   211  \n",
       "title                                      \n",
       "Jumanji                     NaN NaN  None  \n",
       "Grumpier Old Men            NaN NaN  None  \n",
       "Waiting to Exhale           NaN NaN  None  \n",
       "Father of the Bride Part II NaN NaN  None  \n",
       "Heat                        NaN NaN  None  \n",
       "\n",
       "[5 rows x 212 columns]"
      ]
     },
     "execution_count": 164,
     "metadata": {},
     "output_type": "execute_result"
    }
   ],
   "source": [
    "print(repl.shape)\n",
    "repl.head()"
   ]
  },
  {
   "cell_type": "code",
   "execution_count": 165,
   "metadata": {},
   "outputs": [],
   "source": [
    "word2vec_ready = list_lists.tolist()"
   ]
  },
  {
   "cell_type": "markdown",
   "metadata": {},
   "source": [
    "## Deploying Word2Vec"
   ]
  },
  {
   "cell_type": "code",
   "execution_count": 166,
   "metadata": {},
   "outputs": [],
   "source": [
    "model = gensim.models.Word2Vec(word2vec_ready, min_count=2, size=100, workers=3, window=5, sg=1)"
   ]
  },
  {
   "cell_type": "code",
   "execution_count": 167,
   "metadata": {
    "scrolled": true
   },
   "outputs": [],
   "source": [
    "X = model.wv[model.wv.vocab]"
   ]
  },
  {
   "cell_type": "code",
   "execution_count": 168,
   "metadata": {},
   "outputs": [],
   "source": [
    "# model.wv.save_word2vec_format('word2vec_model.bin')"
   ]
  },
  {
   "cell_type": "code",
   "execution_count": 243,
   "metadata": {},
   "outputs": [],
   "source": [
    "Y = gensim.models.KeyedVectors.load_word2vec_format('word2vec_model.bin')"
   ]
  },
  {
   "cell_type": "markdown",
   "metadata": {},
   "source": [
    "### Project using PCA"
   ]
  },
  {
   "cell_type": "code",
   "execution_count": 169,
   "metadata": {},
   "outputs": [],
   "source": [
    "from sklearn.decomposition import PCA"
   ]
  },
  {
   "cell_type": "code",
   "execution_count": 170,
   "metadata": {},
   "outputs": [],
   "source": [
    "pca_t = PCA(2).fit_transform(X)"
   ]
  },
  {
   "cell_type": "code",
   "execution_count": 171,
   "metadata": {
    "scrolled": true
   },
   "outputs": [
    {
     "data": {
      "image/png": "[encoded data removed]",
      "text/plain": [
       "<Figure size 432x288 with 1 Axes>"
      ]
     },
     "metadata": {
      "needs_background": "light"
     },
     "output_type": "display_data"
    }
   ],
   "source": [
    "plt.scatter(pca_t[:, 0], pca_t[:, 1],alpha=.3)\n",
    "plt.show()"
   ]
  },
  {
   "cell_type": "markdown",
   "metadata": {},
   "source": [
    "### Most similar"
   ]
  },
  {
   "cell_type": "code",
   "execution_count": 191,
   "metadata": {},
   "outputs": [],
   "source": [
    "import itertools as it"
   ]
  },
  {
   "cell_type": "code",
   "execution_count": 182,
   "metadata": {},
   "outputs": [
    {
     "data": {
      "text/plain": [
       "0.8769528"
      ]
     },
     "execution_count": 182,
     "metadata": {},
     "output_type": "execute_result"
    }
   ],
   "source": [
    "model.wv.similarity('chess', 'poker')"
   ]
  },
  {
   "cell_type": "code",
   "execution_count": null,
   "metadata": {},
   "outputs": [],
   "source": [
    "def link_url_to_words(url):\n",
    "    "
   ]
  },
  {
   "cell_type": "code",
   "execution_count": 256,
   "metadata": {},
   "outputs": [],
   "source": [
    "example_word = ['hairless cat', \n",
    "                'traditional sport',\n",
    "                'volcanic landform', \n",
    "                'small terrier']"
   ]
  },
  {
   "cell_type": "code",
   "execution_count": 262,
   "metadata": {},
   "outputs": [],
   "source": [
    "def link_words_to_movie(w):\n",
    "    \"\"\"Take a list of words and get predicted close words from NLTK\"\"\"\n",
    "    assert isinstance(w, (list, tuple)), \"w must be a list\"\n",
    "    res_l = list(it.chain.from_iterable([nltk.word_tokenize(word) for word in w]))\n",
    "    skipped_res = [s for s in res_l if s in model.wv.vocab]\n",
    "    print(skipped_res)\n",
    "    _w = model.wv.most_similar(skipped_res, topn=100)\n",
    "    _top_w = _w[:10]\n",
    "    #print(_w)\n",
    "    print(_top_w)\n",
    "    return list(dict(_top_w).keys())"
   ]
  },
  {
   "cell_type": "code",
   "execution_count": 264,
   "metadata": {},
   "outputs": [
    {
     "name": "stdout",
     "output_type": "stream",
     "text": [
      "['cat', 'traditional', 'sport', 'volcanic', 'small', 'terrier']\n",
      "[('grove', 0.9795904159545898), ('virtually', 0.9793041944503784), ('warlock', 0.978966236114502), ('draw', 0.9788894653320312), ('gunslingers', 0.9764358401298523), ('picturesque', 0.9761002063751221), ('firecreek', 0.9752250909805298), ('moderate', 0.9749740362167358), ('unsupervised', 0.9742239713668823), ('delphi', 0.974073052406311)]\n"
     ]
    }
   ],
   "source": [
    "tw = link_words_to_movie(example_word)"
   ]
  },
  {
   "cell_type": "code",
   "execution_count": 265,
   "metadata": {},
   "outputs": [
    {
     "data": {
      "text/plain": [
       "['grove',\n",
       " 'virtually',\n",
       " 'warlock',\n",
       " 'draw',\n",
       " 'gunslingers',\n",
       " 'picturesque',\n",
       " 'firecreek',\n",
       " 'moderate',\n",
       " 'unsupervised',\n",
       " 'delphi']"
      ]
     },
     "execution_count": 265,
     "metadata": {},
     "output_type": "execute_result"
    }
   ],
   "source": [
    "tw"
   ]
  },
  {
   "cell_type": "code",
   "execution_count": 282,
   "metadata": {},
   "outputs": [],
   "source": [
    "for word in tw:\n",
    "    df['tokened'].str.contains(word)"
   ]
  },
  {
   "cell_type": "code",
   "execution_count": 261,
   "metadata": {},
   "outputs": [
    {
     "data": {
      "text/plain": [
       "['hairless', 'cat']"
      ]
     },
     "execution_count": 261,
     "metadata": {},
     "output_type": "execute_result"
    }
   ],
   "source": [
    "nltk.word_tokenize(example_word[0])"
   ]
  },
  {
   "cell_type": "code",
   "execution_count": 278,
   "metadata": {},
   "outputs": [],
   "source": [
    "from sklearn.feature_extraction.text import TfidfVectorizer, CountVectorizer"
   ]
  },
  {
   "cell_type": "code",
   "execution_count": 279,
   "metadata": {},
   "outputs": [],
   "source": [
    "vec = TfidfVectorizer(stop_words='english')\n",
    "X_t = vec.fit_transform(df['tokened'].tolist())"
   ]
  },
  {
   "cell_type": "code",
   "execution_count": 280,
   "metadata": {},
   "outputs": [
    {
     "data": {
      "text/plain": [
       "<17945x56570 sparse matrix of type '<class 'numpy.float64'>'\n",
       "\twith 537053 stored elements in Compressed Sparse Row format>"
      ]
     },
     "execution_count": 280,
     "metadata": {},
     "output_type": "execute_result"
    }
   ],
   "source": [
    "X_t"
   ]
  },
  {
   "cell_type": "code",
   "execution_count": 281,
   "metadata": {},
   "outputs": [
    {
     "data": {
      "text/plain": [
       "(17945, 56570)"
      ]
     },
     "execution_count": 281,
     "metadata": {},
     "output_type": "execute_result"
    }
   ],
   "source": [
    "X_t.shape"
   ]
  },
  {
   "cell_type": "code",
   "execution_count": 293,
   "metadata": {},
   "outputs": [
    {
     "data": {
      "text/html": [
       "<div>\n",
       "<style scoped>\n",
       "    .dataframe tbody tr th:only-of-type {\n",
       "        vertical-align: middle;\n",
       "    }\n",
       "\n",
       "    .dataframe tbody tr th {\n",
       "        vertical-align: top;\n",
       "    }\n",
       "\n",
       "    .dataframe thead th {\n",
       "        text-align: right;\n",
       "    }\n",
       "</style>\n",
       "<table border=\"1\" class=\"dataframe\">\n",
       "  <thead>\n",
       "    <tr style=\"text-align: right;\">\n",
       "      <th></th>\n",
       "      <th>id</th>\n",
       "      <th>overview</th>\n",
       "      <th>tagline</th>\n",
       "      <th>original_language</th>\n",
       "      <th>overview_tokens</th>\n",
       "      <th>tokened</th>\n",
       "    </tr>\n",
       "    <tr>\n",
       "      <th>title</th>\n",
       "      <th></th>\n",
       "      <th></th>\n",
       "      <th></th>\n",
       "      <th></th>\n",
       "      <th></th>\n",
       "      <th></th>\n",
       "    </tr>\n",
       "  </thead>\n",
       "  <tbody>\n",
       "    <tr>\n",
       "      <th>Jumanji</th>\n",
       "      <td>8844</td>\n",
       "      <td>when siblings judy and peter discover an encha...</td>\n",
       "      <td>roll the dice and unleash the excitement!</td>\n",
       "      <td>en</td>\n",
       "      <td>when siblings judy and peter discover an encha...</td>\n",
       "      <td>when siblings judy and peter discover an encha...</td>\n",
       "    </tr>\n",
       "    <tr>\n",
       "      <th>Grumpier Old Men</th>\n",
       "      <td>15602</td>\n",
       "      <td>a family wedding reignites the ancient feud be...</td>\n",
       "      <td>still yelling. still fighting. still ready for...</td>\n",
       "      <td>en</td>\n",
       "      <td>a family wedding reignites the ancient feud be...</td>\n",
       "      <td>a family wedding reignites the ancient feud be...</td>\n",
       "    </tr>\n",
       "    <tr>\n",
       "      <th>Waiting to Exhale</th>\n",
       "      <td>31357</td>\n",
       "      <td>cheated on, mistreated and stepped on, the wom...</td>\n",
       "      <td>friends are the people who let you be yourself...</td>\n",
       "      <td>en</td>\n",
       "      <td>cheated on mistreated and stepped on the women...</td>\n",
       "      <td>cheated on mistreated and stepped on the women...</td>\n",
       "    </tr>\n",
       "    <tr>\n",
       "      <th>Father of the Bride Part II</th>\n",
       "      <td>11862</td>\n",
       "      <td>just when george banks has recovered from his ...</td>\n",
       "      <td>just when his world is back to normal... he's ...</td>\n",
       "      <td>en</td>\n",
       "      <td>just when george banks has recovered from his ...</td>\n",
       "      <td>just when george banks has recovered from his ...</td>\n",
       "    </tr>\n",
       "    <tr>\n",
       "      <th>Heat</th>\n",
       "      <td>949</td>\n",
       "      <td>obsessive master thief, neil mccauley leads a ...</td>\n",
       "      <td>a los angeles crime saga</td>\n",
       "      <td>en</td>\n",
       "      <td>obsessive master thief neil mccauley leads a t...</td>\n",
       "      <td>obsessive master thief neil mccauley leads a t...</td>\n",
       "    </tr>\n",
       "    <tr>\n",
       "      <th>...</th>\n",
       "      <td>...</td>\n",
       "      <td>...</td>\n",
       "      <td>...</td>\n",
       "      <td>...</td>\n",
       "      <td>...</td>\n",
       "      <td>...</td>\n",
       "    </tr>\n",
       "    <tr>\n",
       "      <th>Pooh's Heffalump Halloween Movie</th>\n",
       "      <td>14885</td>\n",
       "      <td>it's halloween in the 100 acre wood, and roo's...</td>\n",
       "      <td>celebrate lumpy's first halloween</td>\n",
       "      <td>en</td>\n",
       "      <td>it s halloween in the 100 acre wood and roo s ...</td>\n",
       "      <td>it s halloween in the 100 acre wood and roo s ...</td>\n",
       "    </tr>\n",
       "    <tr>\n",
       "      <th>The Morning After</th>\n",
       "      <td>420346</td>\n",
       "      <td>the morning after is a feature film that consi...</td>\n",
       "      <td>what happened last night?</td>\n",
       "      <td>en</td>\n",
       "      <td>the morning after is a feature film that consi...</td>\n",
       "      <td>the morning after is a feature film that consi...</td>\n",
       "    </tr>\n",
       "    <tr>\n",
       "      <th>House of Horrors</th>\n",
       "      <td>84419</td>\n",
       "      <td>an unsuccessful sculptor saves a madman named ...</td>\n",
       "      <td>meet...the creeper!</td>\n",
       "      <td>en</td>\n",
       "      <td>an unsuccessful sculptor saves a madman named ...</td>\n",
       "      <td>an unsuccessful sculptor saves a madman named ...</td>\n",
       "    </tr>\n",
       "    <tr>\n",
       "      <th>The Burkittsville 7</th>\n",
       "      <td>289923</td>\n",
       "      <td>a film archivist revisits the story of rustin ...</td>\n",
       "      <td>do you know what happened 50 years before \"the...</td>\n",
       "      <td>en</td>\n",
       "      <td>a film archivist revisits the story of rustin ...</td>\n",
       "      <td>a film archivist revisits the story of rustin ...</td>\n",
       "    </tr>\n",
       "    <tr>\n",
       "      <th>Betrayal</th>\n",
       "      <td>67758</td>\n",
       "      <td>when one of her hits goes wrong, a professiona...</td>\n",
       "      <td>a deadly game of wits</td>\n",
       "      <td>en</td>\n",
       "      <td>when one of her hits goes wrong a professional...</td>\n",
       "      <td>when one of her hits goes wrong a professional...</td>\n",
       "    </tr>\n",
       "  </tbody>\n",
       "</table>\n",
       "<p>17945 rows × 6 columns</p>\n",
       "</div>"
      ],
      "text/plain": [
       "                                      id  \\\n",
       "title                                      \n",
       "Jumanji                             8844   \n",
       "Grumpier Old Men                   15602   \n",
       "Waiting to Exhale                  31357   \n",
       "Father of the Bride Part II        11862   \n",
       "Heat                                 949   \n",
       "...                                  ...   \n",
       "Pooh's Heffalump Halloween Movie   14885   \n",
       "The Morning After                 420346   \n",
       "House of Horrors                   84419   \n",
       "The Burkittsville 7               289923   \n",
       "Betrayal                           67758   \n",
       "\n",
       "                                                                           overview  \\\n",
       "title                                                                                 \n",
       "Jumanji                           when siblings judy and peter discover an encha...   \n",
       "Grumpier Old Men                  a family wedding reignites the ancient feud be...   \n",
       "Waiting to Exhale                 cheated on, mistreated and stepped on, the wom...   \n",
       "Father of the Bride Part II       just when george banks has recovered from his ...   \n",
       "Heat                              obsessive master thief, neil mccauley leads a ...   \n",
       "...                                                                             ...   \n",
       "Pooh's Heffalump Halloween Movie  it's halloween in the 100 acre wood, and roo's...   \n",
       "The Morning After                 the morning after is a feature film that consi...   \n",
       "House of Horrors                  an unsuccessful sculptor saves a madman named ...   \n",
       "The Burkittsville 7               a film archivist revisits the story of rustin ...   \n",
       "Betrayal                          when one of her hits goes wrong, a professiona...   \n",
       "\n",
       "                                                                            tagline  \\\n",
       "title                                                                                 \n",
       "Jumanji                                   roll the dice and unleash the excitement!   \n",
       "Grumpier Old Men                  still yelling. still fighting. still ready for...   \n",
       "Waiting to Exhale                 friends are the people who let you be yourself...   \n",
       "Father of the Bride Part II       just when his world is back to normal... he's ...   \n",
       "Heat                                                       a los angeles crime saga   \n",
       "...                                                                             ...   \n",
       "Pooh's Heffalump Halloween Movie                  celebrate lumpy's first halloween   \n",
       "The Morning After                                         what happened last night?   \n",
       "House of Horrors                                                meet...the creeper!   \n",
       "The Burkittsville 7               do you know what happened 50 years before \"the...   \n",
       "Betrayal                                                      a deadly game of wits   \n",
       "\n",
       "                                 original_language  \\\n",
       "title                                                \n",
       "Jumanji                                         en   \n",
       "Grumpier Old Men                                en   \n",
       "Waiting to Exhale                               en   \n",
       "Father of the Bride Part II                     en   \n",
       "Heat                                            en   \n",
       "...                                            ...   \n",
       "Pooh's Heffalump Halloween Movie                en   \n",
       "The Morning After                               en   \n",
       "House of Horrors                                en   \n",
       "The Burkittsville 7                             en   \n",
       "Betrayal                                        en   \n",
       "\n",
       "                                                                    overview_tokens  \\\n",
       "title                                                                                 \n",
       "Jumanji                           when siblings judy and peter discover an encha...   \n",
       "Grumpier Old Men                  a family wedding reignites the ancient feud be...   \n",
       "Waiting to Exhale                 cheated on mistreated and stepped on the women...   \n",
       "Father of the Bride Part II       just when george banks has recovered from his ...   \n",
       "Heat                              obsessive master thief neil mccauley leads a t...   \n",
       "...                                                                             ...   \n",
       "Pooh's Heffalump Halloween Movie  it s halloween in the 100 acre wood and roo s ...   \n",
       "The Morning After                 the morning after is a feature film that consi...   \n",
       "House of Horrors                  an unsuccessful sculptor saves a madman named ...   \n",
       "The Burkittsville 7               a film archivist revisits the story of rustin ...   \n",
       "Betrayal                          when one of her hits goes wrong a professional...   \n",
       "\n",
       "                                                                            tokened  \n",
       "title                                                                                \n",
       "Jumanji                           when siblings judy and peter discover an encha...  \n",
       "Grumpier Old Men                  a family wedding reignites the ancient feud be...  \n",
       "Waiting to Exhale                 cheated on mistreated and stepped on the women...  \n",
       "Father of the Bride Part II       just when george banks has recovered from his ...  \n",
       "Heat                              obsessive master thief neil mccauley leads a t...  \n",
       "...                                                                             ...  \n",
       "Pooh's Heffalump Halloween Movie  it s halloween in the 100 acre wood and roo s ...  \n",
       "The Morning After                 the morning after is a feature film that consi...  \n",
       "House of Horrors                  an unsuccessful sculptor saves a madman named ...  \n",
       "The Burkittsville 7               a film archivist revisits the story of rustin ...  \n",
       "Betrayal                          when one of her hits goes wrong a professional...  \n",
       "\n",
       "[17945 rows x 6 columns]"
      ]
     },
     "execution_count": 293,
     "metadata": {},
     "output_type": "execute_result"
    }
   ],
   "source": [
    "df"
   ]
  },
  {
   "cell_type": "code",
   "execution_count": null,
   "metadata": {},
   "outputs": [],
   "source": []
  }
 ],
 "metadata": {
  "kernelspec": {
   "display_name": "Python 3",
   "language": "python",
   "name": "python3"
  },
  "language_info": {
   "codemirror_mode": {
    "name": "ipython",
    "version": 3
   },
   "file_extension": ".py",
   "mimetype": "text/x-python",
   "name": "python",
   "nbconvert_exporter": "python",
   "pygments_lexer": "ipython3",
   "version": "3.7.6"
  }
 },
 "nbformat": 4,
 "nbformat_minor": 4
}
